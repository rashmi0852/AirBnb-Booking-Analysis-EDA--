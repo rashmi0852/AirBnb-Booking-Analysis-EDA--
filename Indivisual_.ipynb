{
  "nbformat": 4,
  "nbformat_minor": 0,
  "metadata": {
    "colab": {
      "private_outputs": true,
      "provenance": [],
      "collapsed_sections": [
        "mDgbUHAGgjLW",
        "K5QZ13OEpz2H",
        "lQ7QKXXCp7Bj",
        "448CDAPjqfQr",
        "t6dVpIINYklI",
        "ijmpgYnKYklI",
        "-JiQyfWJYklI",
        "fge-S5ZAYoAp",
        "85gYPyotYoAp",
        "RoGjAbkUYoAp",
        "iky9q4vBYrdO",
        "F6T5p64dYrdO",
        "y-Ehk30pYrdP",
        "QHF8YVU7Yuh3",
        "GwzvFGzlYuh3",
        "qYpmQ266Yuh3",
        "bbFf2-_FphqN",
        "_ouA3fa0phqN",
        "Seke61FWphqN",
        "t27r6nlMphqO",
        "r2jJGEOYphqO",
        "b0JNsNcRphqO",
        "jj7wYXLtphqO",
        "eZrbJ2SmphqO",
        "rFu4xreNphqO",
        "YJ55k-q6phqO",
        "gCFgpxoyphqP",
        "OVtJsKN_phqQ",
        "lssrdh5qphqQ",
        "U2RJ9gkRphqQ",
        "1M8mcRywphqQ",
        "tgIPom80phqQ",
        "JMzcOPDDphqR",
        "x-EpHcCOp1ci",
        "X_VqEhTip1ck",
        "8zGJKyg5p1ck",
        "PVzmfK_Ep1ck",
        "n3dbpmDWp1ck",
        "ylSl6qgtp1ck",
        "ZWILFDl5p1ck",
        "M7G43BXep1ck",
        "Ag9LCva-p1cl",
        "E6MkPsBcp1cl",
        "2cELzS2fp1cl",
        "3MPXvC8up1cl",
        "NC_X3p0fY2L0",
        "UV0SzAkaZNRQ",
        "YPEH6qLeZNRQ",
        "q29F0dvdveiT",
        "EXh0U9oCveiU",
        "22aHeOlLveiV",
        "JcMwzZxoAimU",
        "8G2x9gOozGDZ",
        "gCX9965dhzqZ",
        "gIfDvo9L0UH2"
      ],
      "include_colab_link": true
    },
    "kernelspec": {
      "name": "python3",
      "display_name": "Python 3"
    },
    "language_info": {
      "name": "python"
    }
  },
  "cells": [
    {
      "cell_type": "markdown",
      "metadata": {
        "id": "view-in-github",
        "colab_type": "text"
      },
      "source": [
        "<a href=\"https://colab.research.google.com/github/rashmi0852/AirBnb-Booking-Analysis-EDA--/blob/main/Indivisual_.ipynb\" target=\"_parent\"><img src=\"https://colab.research.google.com/assets/colab-badge.svg\" alt=\"Open In Colab\"/></a>"
      ]
    },
    {
      "cell_type": "markdown",
      "source": [
        "# **Project Name**    - AirBnb Booking Analysis\n",
        "\n"
      ],
      "metadata": {
        "id": "vncDsAP0Gaoa"
      }
    },
    {
      "cell_type": "markdown",
      "source": [
        "##### **Project Type**    - EDA\n",
        "##### **Contribution**    - Individual\n",
        "##### **Name**            - Rashmiranjan Nayak\n"
      ],
      "metadata": {
        "id": "beRrZCGUAJYm"
      }
    },
    {
      "cell_type": "markdown",
      "source": [
        "# **Project Summary -**"
      ],
      "metadata": {
        "id": "FJNUwmbgGyua"
      }
    },
    {
      "cell_type": "markdown",
      "source": [
        "Airbnb, Inc. is an American company that operates an online marketplace for lodging, primarily homestays for vacation rentals, and tourism activities. Based in San Francisco, California, the platform is accessible via website and mobile app.\n",
        "\n",
        "Since 2008, guests and hosts have used Airbnb to expand on traveling possibilities and present a more unique, personalized way of experiencing the world. Today, Airbnb became one-of-a-kind service that is used and recognized by the whole world.\n",
        "\n",
        "The Exploratory Data Analysis (EDA) project conducted on Airbnb data aimed to gain insights and derive meaningful conclusions from a comprehensive dataset related to Airbnb listings and bookings. EDA is a crucial phase in data analysis that involves investigating and visualizing the data to uncover patterns, trends, outliers, and relationships that can guide further analysis and decision-making. In this project, we delved into the Airbnb dataset to extract valuable information and provide actionable insights for both hosts and potential guests.\n",
        "\n",
        "The dataset used in this analysis was obtained from Airbnb's platform and encompassed a wide range of information, including listing details, host information, geographical location, pricing, and booking history. The dataset covered listings from various cities and included attributes such as property type, neighbourhood, amenities, reviews, and availability. The primary objectives of this EDA project were to understand the key factors influencing listing prices, identify popular neighbourhoods and property types, analyse booking trends, and explore the relationships between different variables.\n",
        "\n",
        "The project began with data preprocessing, where the dataset was cleaned and transformed to ensure consistency and accuracy.\n",
        "\n",
        "Missing values were handled appropriately, and outliers were identified and addressed to prevent skewed analysis.\n",
        "\n",
        "Once the data was prepared, various visualization techniques were employed to uncover insights.\n",
        "\n"
      ],
      "metadata": {
        "id": "F6v_1wHtG2nS"
      }
    },
    {
      "cell_type": "markdown",
      "source": [
        "# **GitHub Link -**"
      ],
      "metadata": {
        "id": "w6K7xa23Elo4"
      }
    },
    {
      "cell_type": "markdown",
      "source": [
        "https://github.com/rashmi0852/AirBnb-Booking-Analysis-EDA--.git\n"
      ],
      "metadata": {
        "id": "h1o69JH3Eqqn"
      }
    },
    {
      "cell_type": "markdown",
      "source": [
        "# **Problem Statement**\n"
      ],
      "metadata": {
        "id": "yQaldy8SH6Dl"
      }
    },
    {
      "cell_type": "markdown",
      "source": [
        "Since 2008, guests and hosts have used Airbnb primarily homestays for vacation rentals, and tourism activities,The challenge is to extract meaningful insights from Airbnb booking data swiftly and efficiently. This project aims to perform Exploratory Data Analysis (EDA) on Airbnb booking records to uncover trends, patterns, and correlations. With the exponential growth of Airbnb's user base, understanding booking behavior, peak seasons, and preferred accommodation types is crucial. This EDA project seeks to address the demand for actionable insights that hosts and travelers can use to optimize their experiences. By dissecting booking data,we aim to empower users with data-driven decisions, aiding hosts in better pricing strategies and assisting travelers in finding ideal stays efficiently."
      ],
      "metadata": {
        "id": "DpeJGUA3kjGy"
      }
    },
    {
      "cell_type": "markdown",
      "source": [
        "#### **Define Your Business Objective?**"
      ],
      "metadata": {
        "id": "PH-0ReGfmX4f"
      }
    },
    {
      "cell_type": "markdown",
      "source": [
        "The business objective is by utilizing comprehensive Airbnb booking analysis to inform strategic decisions, optimizing host pricing models and enhancing  traveler experiences,Embering Airbnb's ecosystem by leveraging data-driven insights."
      ],
      "metadata": {
        "id": "PhDvGCAqmjP1"
      }
    },
    {
      "cell_type": "markdown",
      "source": [
        "# **General Guidelines** : -  "
      ],
      "metadata": {
        "id": "mDgbUHAGgjLW"
      }
    },
    {
      "cell_type": "markdown",
      "source": [
        "1.   Well-structured, formatted, and commented code is required.\n",
        "2.   Exception Handling, Production Grade Code & Deployment Ready Code will be a plus. Those students will be awarded some additional credits.\n",
        "     \n",
        "     The additional credits will have advantages over other students during Star Student selection.\n",
        "       \n",
        "             [ Note: - Deployment Ready Code is defined as, the whole .ipynb notebook should be executable in one go\n",
        "                       without a single error logged. ]\n",
        "\n",
        "3.   Each and every logic should have proper comments.\n",
        "4. You may add as many number of charts you want. Make Sure for each and every chart the following format should be answered.\n",
        "        \n",
        "\n",
        "```\n",
        "# Chart visualization code\n",
        "```\n",
        "            \n",
        "\n",
        "*   Why did you pick the specific chart?\n",
        "*   What is/are the insight(s) found from the chart?\n",
        "* Will the gained insights help creating a positive business impact?\n",
        "Are there any insights that lead to negative growth? Justify with specific reason.\n",
        "\n",
        "5. You have to create at least 20 logical & meaningful charts having important insights.\n",
        "\n",
        "\n",
        "[ Hints : - Do the Vizualization in  a structured way while following \"UBM\" Rule.\n",
        "\n",
        "U - Univariate Analysis,\n",
        "\n",
        "B - Bivariate Analysis (Numerical - Categorical, Numerical - Numerical, Categorical - Categorical)\n",
        "\n",
        "M - Multivariate Analysis\n",
        " ]\n",
        "\n",
        "\n",
        "\n"
      ],
      "metadata": {
        "id": "ZrxVaUj-hHfC"
      }
    },
    {
      "cell_type": "markdown",
      "source": [
        "# ***Let's Begin !***"
      ],
      "metadata": {
        "id": "O_i_v8NEhb9l"
      }
    },
    {
      "cell_type": "markdown",
      "source": [
        "## ***1. Know Your Data***"
      ],
      "metadata": {
        "id": "HhfV-JJviCcP"
      }
    },
    {
      "cell_type": "markdown",
      "source": [
        "### Import Libraries"
      ],
      "metadata": {
        "id": "Y3lxredqlCYt"
      }
    },
    {
      "cell_type": "code",
      "source": [
        "# Import Libraries\n",
        "import numpy as np\n",
        "import pandas as pd\n",
        "import seaborn as sns\n",
        "import matplotlib.pyplot as plt\n",
        "import plotly.express as px\n",
        "import warnings\n",
        "warnings.filterwarnings(\"ignore\")"
      ],
      "metadata": {
        "id": "M8Vqi-pPk-HR"
      },
      "execution_count": null,
      "outputs": []
    },
    {
      "cell_type": "markdown",
      "source": [
        "### Dataset Loading"
      ],
      "metadata": {
        "id": "3RnN4peoiCZX"
      }
    },
    {
      "cell_type": "code",
      "source": [
        "# Load Dataset\n",
        "airbnb=pd.read_csv(\"Airbnb NYC 2019.csv\")"
      ],
      "metadata": {
        "id": "4CkvbW_SlZ_R"
      },
      "execution_count": null,
      "outputs": []
    },
    {
      "cell_type": "markdown",
      "source": [
        "### Dataset First View"
      ],
      "metadata": {
        "id": "x71ZqKXriCWQ"
      }
    },
    {
      "cell_type": "code",
      "source": [
        "airbnb.head().T"
      ],
      "metadata": {
        "id": "LWNFOSvLl09H"
      },
      "execution_count": null,
      "outputs": []
    },
    {
      "cell_type": "code",
      "source": [
        "airbnb.tail().T"
      ],
      "metadata": {
        "id": "OPPZ9yOzX7pB"
      },
      "execution_count": null,
      "outputs": []
    },
    {
      "cell_type": "markdown",
      "source": [
        "### Dataset Rows & Columns count"
      ],
      "metadata": {
        "id": "7hBIi_osiCS2"
      }
    },
    {
      "cell_type": "code",
      "source": [
        "#Columns count\n",
        "\n",
        "print(\"columns of dataset---\",airbnb.columns)\n",
        "print(\"columns count=\",len(airbnb.columns))"
      ],
      "metadata": {
        "id": "Kllu7SJgmLij"
      },
      "execution_count": null,
      "outputs": []
    },
    {
      "cell_type": "code",
      "source": [
        "#Rows count\n",
        "\n",
        "print(\"Rows count=\",len(airbnb.axes[0]))"
      ],
      "metadata": {
        "id": "wUlP01iFYxHM"
      },
      "execution_count": null,
      "outputs": []
    },
    {
      "cell_type": "code",
      "source": [
        "#Shape of Dataset\n",
        "airbnb.shape"
      ],
      "metadata": {
        "id": "CdJNG3OWZhP1"
      },
      "execution_count": null,
      "outputs": []
    },
    {
      "cell_type": "markdown",
      "source": [
        "### Dataset Information"
      ],
      "metadata": {
        "id": "JlHwYmJAmNHm"
      }
    },
    {
      "cell_type": "code",
      "source": [
        "# Dataset Info\n",
        "airbnb.info()"
      ],
      "metadata": {
        "id": "e9hRXRi6meOf"
      },
      "execution_count": null,
      "outputs": []
    },
    {
      "cell_type": "markdown",
      "source": [
        "Here we have in total 16 columns from that ,we have\n",
        "Numeric =10,\n",
        "categorical= 6( last_review = date)\n"
      ],
      "metadata": {
        "id": "JrnW17CFZ3xI"
      }
    },
    {
      "cell_type": "markdown",
      "source": [
        "#### Duplicate Values"
      ],
      "metadata": {
        "id": "35m5QtbWiB9F"
      }
    },
    {
      "cell_type": "code",
      "source": [
        "# Dataset Duplicate Value Count\n",
        "\n",
        "duplicate_values=airbnb.duplicated().sum()\n",
        "print(\"Duplicate rows in AirBnb dataset:\",duplicate_values)"
      ],
      "metadata": {
        "id": "1sLdpKYkmox0"
      },
      "execution_count": null,
      "outputs": []
    },
    {
      "cell_type": "markdown",
      "source": [
        "#### Missing Values/Null Values"
      ],
      "metadata": {
        "id": "PoPl-ycgm1ru"
      }
    },
    {
      "cell_type": "code",
      "source": [
        "# Missing Values/Null Values Count\n",
        "print (f\"Missing Values in each column\"+\"\\n\" + \"--\"*15)\n",
        "print(airbnb.isnull().sum())"
      ],
      "metadata": {
        "id": "GgHWkxvamxVg"
      },
      "execution_count": null,
      "outputs": []
    },
    {
      "cell_type": "code",
      "source": [
        "\n",
        "# percentage of missing value in AIrBnb dataset\n",
        "print (f\"Missing Values % in each column\"+\"\\n\" + \"--\"*15)\n",
        "(airbnb.isnull().mean())*100"
      ],
      "metadata": {
        "id": "GXcBVsvgNjjs"
      },
      "execution_count": null,
      "outputs": []
    },
    {
      "cell_type": "markdown",
      "source": [
        "\n",
        "\n",
        "\n",
        "\n",
        "*   **NAME** has in total **16** Null values which is **0.03**%\n",
        "*   **Host Name** has in total **21** Null values which is **0.04**%\n",
        "*    **Last Review** has in total **10,052** Null values which is **20.5**%\n",
        "* **Reviews Per Month** has in total **10,052** Null values which is **20.5**%\n",
        "\n",
        "\n",
        "\n",
        "\n",
        "\n",
        "\n",
        "\n"
      ],
      "metadata": {
        "id": "SE79xSXtN0vw"
      }
    },
    {
      "cell_type": "code",
      "source": [
        "# Visualizing the missing values of Airbnb Dataset\n",
        "\n",
        "\n",
        "# Calculating the percentage of missing values in each column\n",
        "missing_percent = (airbnb.isnull().sum() / len(airbnb)) * 100\n",
        "\n",
        "# Creating a DataFrame to store column names and corresponding missing percentages\n",
        "missing_df = pd.DataFrame({'Column': airbnb.columns, 'MissingPercent': missing_percent})\n",
        "\n",
        "# Sorting the DataFrame by missing percentages in descending order\n",
        "missing_df = missing_df.sort_values(by='MissingPercent', ascending=False)\n",
        "\n",
        "# Creating a simple vertical bar plot with missing percentages displayed at the top\n",
        "plt.figure(figsize=(10, 6))\n",
        "bars = plt.bar(missing_df['Column'], missing_df['MissingPercent'], color='purple')\n",
        "\n",
        "# Adding missing percentages as text labels on top of each bar\n",
        "for bar in bars:\n",
        "    plt.text(bar.get_x() + bar.get_width() / 2, bar.get_height(), f'{bar.get_height():.2f}%',\n",
        "             ha='center', va='bottom', color='black', fontsize=10)\n",
        "\n",
        "# Customizing the plot\n",
        "plt.xlabel('Columns')\n",
        "plt.ylabel('Percentage of Missing Values')\n",
        "plt.title('Missing Values Percentage in Airbnb Dataset')\n",
        "plt.xticks(rotation=45, ha='right')\n",
        "plt.tight_layout()\n",
        "\n",
        "# Showing the plot\n",
        "plt.show()\n",
        "\n",
        "\n"
      ],
      "metadata": {
        "id": "3q5wnI3om9sJ"
      },
      "execution_count": null,
      "outputs": []
    },
    {
      "cell_type": "markdown",
      "source": [
        "1. Why did you pick the specific chart?\n",
        "\n",
        " A bar plot is a suitable choice for visualizing missing values in a dataset due to its capacity to present clear comparisons and relative proportions of missing data across columns. With bars directly corresponding to missing value percentages, it provides an intuitive and easily interpretable representation, making it accessible to a wide audience. Bar plots are effective in highlighting columns with high or low missing value percentages, aiding in prioritizing data cleaning efforts."
      ],
      "metadata": {
        "id": "gfoNAAC-nUe_"
      }
    },
    {
      "cell_type": "markdown",
      "source": [
        "2. What are the insights found from the chart?\n",
        "\n",
        "\n",
        "\n",
        "*   The columns ***Last Review*** & ***Reviews Per Month*** contains the largest proportion of NaN values, around **20.5%** . Dropping these rows would result in significant data loss, which could potentially reduce the accuracy of the analysis. Instead of dropping the rows, a better approach could be to impute the missing values using an aggregate metric, such as the mean, median or mode of the remaining values in the \"Rating\" column,Or by replacling with 0.\n",
        "*   The other columns ***Name*** & ***Host Name*** have a much lower percentage of null values, with values ***0.03%*** & ***0.04%***. As missing persentage is very low we can delete those missing values records & it will have tends to 0 effect on the dataset.\n",
        "\n",
        "\n",
        "\n",
        "\n",
        "\n"
      ],
      "metadata": {
        "id": "GR66MzbB6mRK"
      }
    },
    {
      "cell_type": "markdown",
      "source": [
        "### What did you know about your dataset?"
      ],
      "metadata": {
        "id": "H0kj-8xxnORC"
      }
    },
    {
      "cell_type": "markdown",
      "source": [
        "By exploring ***AirBnb*** dataset following insights were found\n",
        "\n",
        "The dataset has ***48895*** Records & **16** Features .\n",
        "Features are described bellow-\n",
        "\n",
        "\n",
        "* ***id*** : A unique id identifying an airbnb lisitng\n",
        "* ***name*** : Name representating the accomodation/Property\n",
        "* ***host_id*** : A unique id identifying an airbnb host\n",
        "* ***host_name*** : Name under whom host is registered\n",
        "* ***neighbourhood_group*** : A group of area(location)\n",
        "* ***neighbourhood*** : Area falls under neighbourhood_group\n",
        "* ***latitude*** : Co-ordinate of Property\n",
        "* ***longitude*** : Co-ordinate of Property\n",
        "* ***room_type*** : Type to categorize listing rooms\n",
        "* ***price*** : Price of listing\n",
        "* ***minimum_nights*** : Minimum nights required to stay in a single visit\n",
        "* ***number_of_reviews*** : Total count of reviews given by visitors\n",
        "* ***last_review*** : Last review given date\n",
        "* ***reviews_per_month*** : No.of reviews given per month\n",
        "* ***calculated_host_listings_count*** : Total no of listing registered under the host\n",
        "* ***availability_365*** : Number of days property is availabe in a year\n",
        "\n",
        "\n",
        "\n"
      ],
      "metadata": {
        "id": "TKFyxTId91VY"
      }
    },
    {
      "cell_type": "markdown",
      "source": [
        "Also we found that among all 16 features\n",
        "\n",
        "\n",
        "*   ***Name***,***host_name***,***neighbourhood_group***,***neighbourhood***,***room_type*** are categorcal Features\n",
        "*   only one column ***last_review*** is Date type\n",
        "*   ***latitude*** and ***longitude*** has represented  co-ordinates & rest are numeric types.\n",
        "\n"
      ],
      "metadata": {
        "id": "YNUCqUMqeT9j"
      }
    },
    {
      "cell_type": "markdown",
      "source": [
        "We can check there are 4 columns containing null values which are ***name***, ***host_name*** (looks like we don't have any alternative for those missing values & we can drop those co-rresponding records) ,***reviews_per_month*** (obviously, if a listing has never received a review, its possible and valid). So we will just fillna(0) to those null value & ***last_review*** is not a necessary column for analysis ,handeling missing values is not required as  we are going to drop it along with ***longitude***&***latitude***"
      ],
      "metadata": {
        "id": "YhwW601bh4yt"
      }
    },
    {
      "cell_type": "markdown",
      "source": [
        "Handeling missing values"
      ],
      "metadata": {
        "id": "FSoBeRi5tJq2"
      }
    },
    {
      "cell_type": "code",
      "source": [
        "#Removing null records based on Name,Host_Name column\n",
        "airbnb = airbnb.dropna(subset=['name', 'host_name'])\n"
      ],
      "metadata": {
        "id": "hAqQRZKTtY-d"
      },
      "execution_count": null,
      "outputs": []
    },
    {
      "cell_type": "code",
      "source": [
        "#filling 0 to null values in reviews_per_month column\n",
        "airbnb['reviews_per_month'] = airbnb['reviews_per_month'].fillna(0)"
      ],
      "metadata": {
        "id": "7xLT_2xn01w0"
      },
      "execution_count": null,
      "outputs": []
    },
    {
      "cell_type": "markdown",
      "source": [
        "Removing unnecessary columns"
      ],
      "metadata": {
        "id": "9uqgeVvS12tj"
      }
    },
    {
      "cell_type": "code",
      "source": [
        "#Removing longitude,latitude,last_review column\n",
        "\n",
        "airbnb.drop([\"longitude\",\"latitude\",\"last_review\"],axis=1,inplace=True)"
      ],
      "metadata": {
        "id": "OEMi8hns2Kyh"
      },
      "execution_count": null,
      "outputs": []
    },
    {
      "cell_type": "code",
      "source": [
        "airbnb.shape"
      ],
      "metadata": {
        "id": "Wf-5el8o260f"
      },
      "execution_count": null,
      "outputs": []
    },
    {
      "cell_type": "code",
      "source": [
        "airbnb.isnull().sum()"
      ],
      "metadata": {
        "id": "WAgEP4w13ApF"
      },
      "execution_count": null,
      "outputs": []
    },
    {
      "cell_type": "markdown",
      "source": [
        "We can see that after handeling null values & removing unnecessary features ,Records reduced to **48858** & features reduced to **13**.Now **AirBnb** dataset is pretty much  cleaned & we can proceed to next step"
      ],
      "metadata": {
        "id": "01Keb3zP3FOp"
      }
    },
    {
      "cell_type": "markdown",
      "source": [
        "## ***2. Understanding Your Variables***"
      ],
      "metadata": {
        "id": "nA9Y7ga8ng1Z"
      }
    },
    {
      "cell_type": "code",
      "source": [
        "# Dataset Columns\n",
        "airbnb.columns"
      ],
      "metadata": {
        "id": "j7xfkqrt5Ag5"
      },
      "execution_count": null,
      "outputs": []
    },
    {
      "cell_type": "code",
      "source": [
        "# Dataset Describe\n",
        "airbnb.describe()"
      ],
      "metadata": {
        "id": "DnOaZdaE5Q5t"
      },
      "execution_count": null,
      "outputs": []
    },
    {
      "cell_type": "markdown",
      "source": [
        "### Variables Description"
      ],
      "metadata": {
        "id": "PBTbrJXOngz2"
      }
    },
    {
      "cell_type": "markdown",
      "source": [
        "Features like **name**, **host_name**, **neighbourhood_group**,\n",
        " **neighbourhood**, **room_type** are some categorical columns which can't be described with describe method so rest  features are described as-\n",
        " * Count of **id**, **host_id** is **48858** same as records as both contains unique values\n",
        " * Rest all records seems normal with some minimum,maximun& counts except **price** column where minimum values shows **0** ,which is a human error. To handel those records we can drop those misleading records.Along with we can ask hosts to update their prices by visiting Airbnb website."
      ],
      "metadata": {
        "id": "aJV4KIxSnxay"
      }
    },
    {
      "cell_type": "code",
      "source": [
        "#droping records containing 0 as price\n",
        "airbnb = airbnb[airbnb['price'] != 0]"
      ],
      "metadata": {
        "id": "EwF9p0w69VxE"
      },
      "execution_count": null,
      "outputs": []
    },
    {
      "cell_type": "code",
      "source": [
        "airbnb.describe()"
      ],
      "metadata": {
        "id": "1D-Z8I479vek"
      },
      "execution_count": null,
      "outputs": []
    },
    {
      "cell_type": "code",
      "source": [
        "airbnb.shape"
      ],
      "metadata": {
        "id": "6PdvVP8495IC"
      },
      "execution_count": null,
      "outputs": []
    },
    {
      "cell_type": "markdown",
      "source": [
        "Now we can say AirBnb dataset is fully cleaned & Description also looks pretty normal now & records reduced to **48847** wth **13** features"
      ],
      "metadata": {
        "id": "5N4SEv--99dC"
      }
    },
    {
      "cell_type": "markdown",
      "source": [
        "### Check Unique Values for each variable."
      ],
      "metadata": {
        "id": "u3PMJOP6ngxN"
      }
    },
    {
      "cell_type": "code",
      "source": [
        "# Check Unique Values for name column\n",
        "print(\"Name of properties are=\",airbnb[\"name\"].unique())\n",
        "#number of unique values in name column\n",
        "print(\"Unique count=\",airbnb[\"name\"].nunique())"
      ],
      "metadata": {
        "id": "zms12Yq5n-jE"
      },
      "execution_count": null,
      "outputs": []
    },
    {
      "cell_type": "code",
      "source": [
        "# Check Unique Values for host_name column\n",
        "print(\"Host names are=\",airbnb[\"host_name\"].unique())\n",
        "#number of unique values in host_name column\n",
        "print(\"Unique count=\",airbnb[\"host_name\"].nunique())"
      ],
      "metadata": {
        "id": "A0KA5sdkAHCo"
      },
      "execution_count": null,
      "outputs": []
    },
    {
      "cell_type": "code",
      "source": [
        "# Check Unique Values for neighbourhood_group column\n",
        "print(\" Name of neighbourhood_groups are=\",airbnb[\"neighbourhood_group\"].unique())\n",
        "#number of unique values in neighbourhood_group column\n",
        "print(\"Unique count=\",airbnb[\"neighbourhood_group\"].nunique())"
      ],
      "metadata": {
        "id": "WM6FYLDkAvpk"
      },
      "execution_count": null,
      "outputs": []
    },
    {
      "cell_type": "code",
      "source": [
        "# Check Unique Values for neighbourhood column\n",
        "print(\" Name of neighbourhoods are=\",airbnb[\"neighbourhood\"].unique())\n",
        "#number of unique values in neighbourhood column\n",
        "print(\"Unique count=\",airbnb[\"neighbourhood\"].nunique())"
      ],
      "metadata": {
        "id": "kIIkdvCMBQnH"
      },
      "execution_count": null,
      "outputs": []
    },
    {
      "cell_type": "code",
      "source": [
        "# Check Unique Values for room_type  column\n",
        "print(\" Types of rooms available are=\",airbnb[\"room_type\"].unique())\n",
        "#number of unique values in room_type  column\n",
        "print(\"Unique count=\",airbnb[\"room_type\"].nunique())"
      ],
      "metadata": {
        "id": "OVo4E5SoBuhA"
      },
      "execution_count": null,
      "outputs": []
    },
    {
      "cell_type": "markdown",
      "source": [
        "## 3. ***Data Wrangling***"
      ],
      "metadata": {
        "id": "dauF4eBmngu3"
      }
    },
    {
      "cell_type": "markdown",
      "source": [
        "### Data Wrangling Code"
      ],
      "metadata": {
        "id": "bKJF3rekwFvQ"
      }
    },
    {
      "cell_type": "code",
      "source": [
        "#problem statement-1\n",
        "#What is the distribution of listings across different neighborhood_groups? & what is the average price of property in each neighbourhood_groups?\n",
        "\n",
        "\n",
        "# Group data by neighborhood_group and calculate the count and average price\n",
        "grouped_data = airbnb.groupby('neighbourhood_group').agg({'id': 'count', 'price': 'mean'}).reset_index()\n",
        "grouped_data.rename(columns={'id': 'property_count', 'price': 'avg_price'}, inplace=True)\n",
        "\n",
        "# Sort by property_count in descending order\n",
        "grouped_data = grouped_data.sort_values(by='property_count', ascending=False)\n",
        "\n",
        "\n"
      ],
      "metadata": {
        "id": "wk-9a2fpoLcV"
      },
      "execution_count": null,
      "outputs": []
    },
    {
      "cell_type": "code",
      "source": [
        "#problem statement-2\n",
        "#What are the different types of room listings available? & How does the price vary across different room types?\n",
        "\n",
        "# Get the counts of each room type\n",
        "room_type_counts = airbnb['room_type'].value_counts()\n",
        "\n",
        "# Calculate the average cost of each room type\n",
        "avg_price_by_room_type = airbnb.groupby('room_type')['price'].mean()\n",
        "\n",
        "\n",
        "\n",
        "\n"
      ],
      "metadata": {
        "id": "ENH8hfT5bArz"
      },
      "execution_count": null,
      "outputs": []
    },
    {
      "cell_type": "code",
      "source": [
        "#problem statement-3: Who are the top hosts (based on the number of listings)?\n",
        "\n",
        "\n",
        "# Get top hosts based on number of listings\n",
        "top_hosts = airbnb['host_name'].value_counts().head(10)\n",
        "\n",
        "# Filter data to include only properties of top hosts\n",
        "top_hosts_data = airbnb[airbnb['host_name'].isin(top_hosts.index)]\n",
        "\n",
        "# Calculate average price of properties for top hosts\n",
        "avg_price_top_hosts = top_hosts_data.groupby('host_name')['price'].mean().sort_values(ascending=False)\n",
        "\n",
        "\n",
        "\n",
        "\n"
      ],
      "metadata": {
        "id": "3xsydQ05hcIC"
      },
      "execution_count": null,
      "outputs": []
    },
    {
      "cell_type": "code",
      "source": [
        "#problem statement-4\n",
        "# How does the count of different room types vary across various neighborhood groups in the  listings?\n",
        "\n",
        "# Group data by neighborhood_group and room_type, then calculate counts\n",
        "roomtype_counts_by_neighbourhood = airbnb.groupby(['neighbourhood_group', 'room_type']).size().reset_index(name='count')\n",
        "\n",
        "\n"
      ],
      "metadata": {
        "id": "ifYh3H2PDXdy"
      },
      "execution_count": null,
      "outputs": []
    },
    {
      "cell_type": "code",
      "source": [
        "#problem statement-5\n",
        "#which are top 5 & bottom 5 neighbourhoods in terms of listings?\n",
        "\n",
        "\n",
        "# Group data by neighborhood and calculate room count\n",
        "room_count_by_neighbourhood = airbnb['neighbourhood'].value_counts()\n",
        "\n",
        "# Find the top 10 and bottom 10 neighborhoods\n",
        "top_10_neighbourhoods = room_count_by_neighbourhood.head(5)\n",
        "bottom_10_neighbourhoods = room_count_by_neighbourhood.tail(5)\n",
        "\n"
      ],
      "metadata": {
        "id": "iqZEyGItI47x"
      },
      "execution_count": null,
      "outputs": []
    },
    {
      "cell_type": "code",
      "source": [
        "#problem statement-6\n",
        "#How does the room count vary among  neighbourhoods in each neighbourhood groups?(Top 3)\n",
        "\n",
        "# Group data by neighbourhood_group and neighbourhood, then calculate room count\n",
        "room_count_by_neighbourhood = airbnb.groupby(['neighbourhood_group', 'neighbourhood'])['id'].count()\n",
        "\n",
        "# Sort and select top 3 neighborhoods within each neighbourhood_group\n",
        "top_3_neighbourhoods = room_count_by_neighbourhood.groupby('neighbourhood_group').nlargest(3)\n",
        "\n",
        "\n"
      ],
      "metadata": {
        "id": "qrm3l7-GTchF"
      },
      "execution_count": null,
      "outputs": []
    },
    {
      "cell_type": "code",
      "source": [
        "#problem statement-7\n",
        "# How does the price of different room types vary across various neighborhood groups?\n",
        "\n",
        "# Group data by neighbourhood_group, room_type, and calculate average price\n",
        "group_data = airbnb.groupby(['neighbourhood_group', 'room_type']).agg({'price': 'mean'}).reset_index()\n",
        "\n",
        "# Create a pivot table to reshape the data for plotting\n",
        "pivot_table = group_data.pivot_table(index='neighbourhood_group', columns='room_type', values='price')\n",
        "\n"
      ],
      "metadata": {
        "id": "E0wOn_9-dNHq"
      },
      "execution_count": null,
      "outputs": []
    },
    {
      "cell_type": "markdown",
      "source": [
        "### What all manipulations have you done and insights you found?"
      ],
      "metadata": {
        "id": "MSa1f5Uengrz"
      }
    },
    {
      "cell_type": "markdown",
      "source": [
        "Answer Here."
      ],
      "metadata": {
        "id": "LbyXE7I1olp8"
      }
    },
    {
      "cell_type": "markdown",
      "source": [
        "## ***4. Data Vizualization, Storytelling & Experimenting with charts : Understand the relationships between variables***"
      ],
      "metadata": {
        "id": "GF8Ens_Soomf"
      }
    },
    {
      "cell_type": "markdown",
      "source": [
        "#### Chart - 1"
      ],
      "metadata": {
        "id": "0wOQAZs5pc--"
      }
    },
    {
      "cell_type": "code",
      "source": [
        "# Chart - 1 visualization code\n",
        "#What is the distribution of listings across different neighborhood_groups ? & what is the average price of property in each neighbourhood_groups?\n",
        "\n",
        "\n",
        "# Create subplots\n",
        "fig, axes = plt.subplots(1, 2, figsize=(16, 6))\n",
        "\n",
        "# Plot 1: Number of Properties Listed by Neighborhood Group\n",
        "sns.barplot(data=grouped_data, x='neighbourhood_group', y='property_count', palette='viridis', ax=axes[0])\n",
        "axes[0].set_title('Number of Properties Listed by Neighborhood Group')\n",
        "axes[0].set_xlabel('Neighborhood Group')\n",
        "axes[0].set_ylabel('Number of Properties')\n",
        "axes[0].set_xticklabels(axes[0].get_xticklabels(), rotation=45)\n",
        "\n",
        "# Add data labels to the bars\n",
        "for p in axes[0].patches:\n",
        "    axes[0].annotate(f'{int(p.get_height())}', (p.get_x() + p.get_width() / 2., p.get_height()),\n",
        "                      ha='center', va='center', xytext=(0, 10), textcoords='offset points')\n",
        "\n",
        "# Plot 2: Average Price per Property by Neighborhood Group\n",
        "sns.barplot(data=grouped_data, x='neighbourhood_group', y='avg_price', palette='viridis', ax=axes[1])\n",
        "axes[1].set_title('Average Price per Property by Neighborhood Group')\n",
        "axes[1].set_xlabel('Neighborhood Group')\n",
        "axes[1].set_ylabel('Average Price')\n",
        "axes[1].set_xticklabels(axes[1].get_xticklabels(), rotation=45)\n",
        "\n",
        "# Add data labels to the bars\n",
        "for p in axes[1].patches:\n",
        "    axes[1].annotate(f'${p.get_height():.2f}', (p.get_x() + p.get_width() / 2., p.get_height()),\n",
        "                      ha='center', va='center', xytext=(0, 10), textcoords='offset points')\n",
        "\n",
        "# Adjust layout and display\n",
        "plt.tight_layout()\n",
        "plt.show()\n",
        "\n"
      ],
      "metadata": {
        "id": "7v_ESjsspbW7"
      },
      "execution_count": null,
      "outputs": []
    },
    {
      "cell_type": "markdown",
      "source": [
        "##### 1. Why did you pick the specific chart?"
      ],
      "metadata": {
        "id": "K5QZ13OEpz2H"
      }
    },
    {
      "cell_type": "markdown",
      "source": [
        "Answer Here."
      ],
      "metadata": {
        "id": "XESiWehPqBRc"
      }
    },
    {
      "cell_type": "markdown",
      "source": [
        "##### 2. What is/are the insight(s) found from the chart?"
      ],
      "metadata": {
        "id": "lQ7QKXXCp7Bj"
      }
    },
    {
      "cell_type": "markdown",
      "source": [
        "Answer Here"
      ],
      "metadata": {
        "id": "C_j1G7yiqdRP"
      }
    },
    {
      "cell_type": "markdown",
      "source": [
        "##### 3. Will the gained insights help creating a positive business impact?\n",
        "Are there any insights that lead to negative growth? Justify with specific reason."
      ],
      "metadata": {
        "id": "448CDAPjqfQr"
      }
    },
    {
      "cell_type": "markdown",
      "source": [
        "Answer Here"
      ],
      "metadata": {
        "id": "3cspy4FjqxJW"
      }
    },
    {
      "cell_type": "markdown",
      "source": [
        "#### Chart - 2"
      ],
      "metadata": {
        "id": "KSlN3yHqYklG"
      }
    },
    {
      "cell_type": "code",
      "source": [
        "# Chart - 2 visualization code\n",
        "#What are the different types of room listings available? &How does the price vary across different room types?\n",
        "\n",
        "# Create subplots\n",
        "fig, axes = plt.subplots(1, 2, figsize=(16, 6))\n",
        "\n",
        "# Plot 1: Count of Different Room Types\n",
        "room_type_counts.plot(kind='bar', ax=axes[0], color='skyblue')\n",
        "axes[0].set_title('Count of Different Room Types')\n",
        "axes[0].set_xlabel('Room Type')\n",
        "axes[0].set_ylabel('Count')\n",
        "axes[0].set_xticklabels(room_type_counts.index, rotation=45)\n",
        "\n",
        "# Add data labels to the bars for the first plot\n",
        "for p in axes[0].patches:\n",
        "    axes[0].annotate(f'{int(p.get_height())}', (p.get_x() + p.get_width() / 2., p.get_height()),\n",
        "                      ha='center', va='center', xytext=(0, 10), textcoords='offset points')\n",
        "\n",
        "# Plot 2: Average Cost of Each Room Type\n",
        "avg_price_by_room_type.plot(kind='bar', ax=axes[1], color='yellow')\n",
        "axes[1].set_title('Average Cost of Each Room Type')\n",
        "axes[1].set_xlabel('Room Type')\n",
        "axes[1].set_ylabel('Average Price')\n",
        "axes[1].set_xticklabels(avg_price_by_room_type.index, rotation=45)\n",
        "\n",
        "# Add data labels to the bars for the second plot\n",
        "for p in axes[1].patches:\n",
        "    axes[1].annotate(f'${p.get_height():.2f}', (p.get_x() + p.get_width() / 2., p.get_height()),\n",
        "                      ha='center', va='center', xytext=(0, 10), textcoords='offset points')\n",
        "\n",
        "# Adjust layout and display\n",
        "plt.tight_layout()\n",
        "plt.show()"
      ],
      "metadata": {
        "id": "R4YgtaqtYklH"
      },
      "execution_count": null,
      "outputs": []
    },
    {
      "cell_type": "markdown",
      "source": [
        "##### 1. Why did you pick the specific chart?"
      ],
      "metadata": {
        "id": "t6dVpIINYklI"
      }
    },
    {
      "cell_type": "markdown",
      "source": [
        "Answer Here."
      ],
      "metadata": {
        "id": "5aaW0BYyYklI"
      }
    },
    {
      "cell_type": "markdown",
      "source": [
        "##### 2. What is/are the insight(s) found from the chart?"
      ],
      "metadata": {
        "id": "ijmpgYnKYklI"
      }
    },
    {
      "cell_type": "markdown",
      "source": [
        "Answer Here"
      ],
      "metadata": {
        "id": "PSx9atu2YklI"
      }
    },
    {
      "cell_type": "markdown",
      "source": [
        "##### 3. Will the gained insights help creating a positive business impact?\n",
        "Are there any insights that lead to negative growth? Justify with specific reason."
      ],
      "metadata": {
        "id": "-JiQyfWJYklI"
      }
    },
    {
      "cell_type": "markdown",
      "source": [
        "Answer Here"
      ],
      "metadata": {
        "id": "BcBbebzrYklV"
      }
    },
    {
      "cell_type": "markdown",
      "source": [
        "#### Chart - 3"
      ],
      "metadata": {
        "id": "EM7whBJCYoAo"
      }
    },
    {
      "cell_type": "code",
      "source": [
        "# Chart - 3 visualization code\n",
        "\n",
        "# Create subplots\n",
        "fig, axes = plt.subplots(1, 2, figsize=(16, 6))\n",
        "\n",
        "# Plot 1: Top Hosts by Number of Listings\n",
        "top_hosts.plot(kind='bar', ax=axes[0], color='blue')\n",
        "axes[0].set_title('Top Hosts by Number of Listings')\n",
        "axes[0].set_xlabel('Host Name')\n",
        "axes[0].set_ylabel('Number of Listings')\n",
        "axes[0].set_xticklabels(top_hosts.index, rotation=45)\n",
        "\n",
        "# Add data labels to the bars for the first plot\n",
        "for p in axes[0].patches:\n",
        "    axes[0].annotate(f'{int(p.get_height())}', (p.get_x() + p.get_width() / 2., p.get_height()),\n",
        "                      ha='center', va='center', xytext=(0, 10), textcoords='offset points')\n",
        "\n",
        "# Plot 2: Average Price of Properties for Top Hosts\n",
        "avg_price_top_hosts.plot(kind='bar', ax=axes[1], color='green')\n",
        "axes[1].set_title('Average Price of Properties for Top Hosts')\n",
        "axes[1].set_xlabel('Host Name')\n",
        "axes[1].set_ylabel('Average Price')\n",
        "axes[1].set_xticklabels(avg_price_top_hosts.index, rotation=45)\n",
        "\n",
        "# Add data labels to the bars for the second plot\n",
        "for p in axes[1].patches:\n",
        "    axes[1].annotate(f'${p.get_height():.2f}', (p.get_x() + p.get_width() / 2., p.get_height()),\n",
        "                      ha='center', va='center', xytext=(0, 10), textcoords='offset points')\n",
        "\n",
        "# Adjust layout and display\n",
        "plt.tight_layout()\n",
        "plt.show()"
      ],
      "metadata": {
        "id": "t6GMdE67YoAp"
      },
      "execution_count": null,
      "outputs": []
    },
    {
      "cell_type": "markdown",
      "source": [
        "##### 1. Why did you pick the specific chart?"
      ],
      "metadata": {
        "id": "fge-S5ZAYoAp"
      }
    },
    {
      "cell_type": "markdown",
      "source": [
        "Answer Here."
      ],
      "metadata": {
        "id": "5dBItgRVYoAp"
      }
    },
    {
      "cell_type": "markdown",
      "source": [
        "##### 2. What is/are the insight(s) found from the chart?"
      ],
      "metadata": {
        "id": "85gYPyotYoAp"
      }
    },
    {
      "cell_type": "markdown",
      "source": [
        "Answer Here"
      ],
      "metadata": {
        "id": "4jstXR6OYoAp"
      }
    },
    {
      "cell_type": "markdown",
      "source": [
        "##### 3. Will the gained insights help creating a positive business impact?\n",
        "Are there any insights that lead to negative growth? Justify with specific reason."
      ],
      "metadata": {
        "id": "RoGjAbkUYoAp"
      }
    },
    {
      "cell_type": "markdown",
      "source": [
        "Answer Here"
      ],
      "metadata": {
        "id": "zfJ8IqMcYoAp"
      }
    },
    {
      "cell_type": "markdown",
      "source": [
        "#### Chart - 4"
      ],
      "metadata": {
        "id": "4Of9eVA-YrdM"
      }
    },
    {
      "cell_type": "code",
      "source": [
        "# Chart - 4 visualization code\n",
        "\n",
        "# How does the count of different room types vary across various neighborhood groups in the  listings?\n",
        "\n",
        "# Create a bar plot\n",
        "plt.figure(figsize=(10, 6))\n",
        "sns.barplot(data=roomtype_counts_by_neighbourhood, x='neighbourhood_group', y='count', hue='room_type')\n",
        "plt.title('Room Type Count in Each Neighborhood Group')\n",
        "plt.xlabel('Neighborhood Group')\n",
        "plt.ylabel('Count')\n",
        "plt.xticks(rotation=45)\n",
        "plt.legend(title='Room Type')\n",
        "\n",
        "# Annotate bars with values\n",
        "for p in plt.gca().patches:\n",
        "    plt.gca().annotate(f'{int(p.get_height())}', (p.get_x() + p.get_width() / 2., p.get_height()),\n",
        "                       ha='center', va='center', xytext=(0, 10), textcoords='offset points')\n",
        "\n",
        "# Adjust layout and display\n",
        "plt.tight_layout()\n",
        "plt.show()"
      ],
      "metadata": {
        "id": "irlUoxc8YrdO"
      },
      "execution_count": null,
      "outputs": []
    },
    {
      "cell_type": "markdown",
      "source": [
        "##### 1. Why did you pick the specific chart?"
      ],
      "metadata": {
        "id": "iky9q4vBYrdO"
      }
    },
    {
      "cell_type": "markdown",
      "source": [
        "Answer Here."
      ],
      "metadata": {
        "id": "aJRCwT6DYrdO"
      }
    },
    {
      "cell_type": "markdown",
      "source": [
        "##### 2. What is/are the insight(s) found from the chart?"
      ],
      "metadata": {
        "id": "F6T5p64dYrdO"
      }
    },
    {
      "cell_type": "markdown",
      "source": [
        "Answer Here"
      ],
      "metadata": {
        "id": "Xx8WAJvtYrdO"
      }
    },
    {
      "cell_type": "markdown",
      "source": [
        "##### 3. Will the gained insights help creating a positive business impact?\n",
        "Are there any insights that lead to negative growth? Justify with specific reason."
      ],
      "metadata": {
        "id": "y-Ehk30pYrdP"
      }
    },
    {
      "cell_type": "markdown",
      "source": [
        "Answer Here"
      ],
      "metadata": {
        "id": "jLNxxz7MYrdP"
      }
    },
    {
      "cell_type": "markdown",
      "source": [
        "#### Chart - 5"
      ],
      "metadata": {
        "id": "bamQiAODYuh1"
      }
    },
    {
      "cell_type": "code",
      "source": [
        "# Chart - 5 visualization code\n",
        "#which are top 5 & bottom 5 neighbourhoods in terms of listings?\n",
        "\n",
        "\n",
        "# Create subplots\n",
        "fig, axes = plt.subplots(1, 2, figsize=(16, 6))\n",
        "\n",
        "# Plot 1: Top 10 Neighborhoods by Room Count\n",
        "top_10_neighbourhoods.plot(kind='bar', ax=axes[0], color='green')\n",
        "axes[0].set_title('Top 10 Neighborhoods by Room Count')\n",
        "axes[0].set_xlabel('Neighbourhood')\n",
        "axes[0].set_ylabel('Room Count')\n",
        "axes[0].set_xticklabels(top_10_neighbourhoods.index, rotation=45)\n",
        "\n",
        "# Add data labels to the bars for the first plot\n",
        "for p in axes[0].patches:\n",
        "    axes[0].annotate(f'{int(p.get_height())}', (p.get_x() + p.get_width() / 2., p.get_height()),\n",
        "                      ha='center', va='center', xytext=(0, 10), textcoords='offset points')\n",
        "\n",
        "# Plot 2: Bottom 10 Neighborhoods by Room Count\n",
        "bottom_10_neighbourhoods.plot(kind='bar', ax=axes[1], color='blue')\n",
        "axes[1].set_title('Bottom 10 Neighborhoods by Room Count')\n",
        "axes[1].set_xlabel('Neighbourhood')\n",
        "axes[1].set_ylabel('Room Count')\n",
        "axes[1].set_xticklabels(bottom_10_neighbourhoods.index, rotation=45)\n",
        "\n",
        "# Add data labels to the bars for the second plot\n",
        "for p in axes[1].patches:\n",
        "    axes[1].annotate(f'{int(p.get_height())}', (p.get_x() + p.get_width() / 2., p.get_height()),\n",
        "                      ha='center', va='center', xytext=(0, 10), textcoords='offset points')\n",
        "\n",
        "# Adjust layout and display\n",
        "plt.tight_layout()\n",
        "plt.show()\n"
      ],
      "metadata": {
        "id": "TIJwrbroYuh3"
      },
      "execution_count": null,
      "outputs": []
    },
    {
      "cell_type": "markdown",
      "source": [
        "##### 1. Why did you pick the specific chart?"
      ],
      "metadata": {
        "id": "QHF8YVU7Yuh3"
      }
    },
    {
      "cell_type": "markdown",
      "source": [
        "Answer Here."
      ],
      "metadata": {
        "id": "dcxuIMRPYuh3"
      }
    },
    {
      "cell_type": "markdown",
      "source": [
        "##### 2. What is/are the insight(s) found from the chart?"
      ],
      "metadata": {
        "id": "GwzvFGzlYuh3"
      }
    },
    {
      "cell_type": "markdown",
      "source": [
        "Answer Here"
      ],
      "metadata": {
        "id": "uyqkiB8YYuh3"
      }
    },
    {
      "cell_type": "markdown",
      "source": [
        "##### 3. Will the gained insights help creating a positive business impact?\n",
        "Are there any insights that lead to negative growth? Justify with specific reason."
      ],
      "metadata": {
        "id": "qYpmQ266Yuh3"
      }
    },
    {
      "cell_type": "markdown",
      "source": [
        "Answer Here"
      ],
      "metadata": {
        "id": "_WtzZ_hCYuh4"
      }
    },
    {
      "cell_type": "markdown",
      "source": [
        "#### Chart - 6"
      ],
      "metadata": {
        "id": "OH-pJp9IphqM"
      }
    },
    {
      "cell_type": "code",
      "source": [
        "# Chart - 6 visualization code\n",
        "#How does the room count vary among  neighbourhoods in each neighbourhood groups?(Top 3)\n",
        "\n",
        "# Create a grouped bar plot\n",
        "plt.figure(figsize=(12, 8))\n",
        "ax = top_3_neighbourhoods.plot(kind='bar', color=['skyblue', 'green', 'orange'])\n",
        "\n",
        "# Add value labels to each bar\n",
        "for container in ax.containers:\n",
        "    for bar in container:\n",
        "        yval = bar.get_height()\n",
        "        plt.text(bar.get_x() + bar.get_width()/2, yval + 10, int(yval), ha='center', va='bottom', fontsize=10)\n",
        "\n",
        "plt.title('Top 3 Neighborhoods by Room Count in Each Neighbourhood Group')\n",
        "plt.xlabel('Neighbourhood Group - Neighborhood')\n",
        "plt.ylabel('Room Count')\n",
        "plt.xticks(rotation=45, ha='right')\n",
        "\n",
        "# Show legend for neighbourhood groups\n",
        "plt.legend(title='Neighbourhood Group', bbox_to_anchor=(1, 1))\n",
        "\n",
        "plt.tight_layout()\n",
        "plt.show()"
      ],
      "metadata": {
        "id": "kuRf4wtuphqN"
      },
      "execution_count": null,
      "outputs": []
    },
    {
      "cell_type": "markdown",
      "source": [
        "##### 1. Why did you pick the specific chart?"
      ],
      "metadata": {
        "id": "bbFf2-_FphqN"
      }
    },
    {
      "cell_type": "markdown",
      "source": [
        "Answer Here."
      ],
      "metadata": {
        "id": "loh7H2nzphqN"
      }
    },
    {
      "cell_type": "markdown",
      "source": [
        "##### 2. What is/are the insight(s) found from the chart?"
      ],
      "metadata": {
        "id": "_ouA3fa0phqN"
      }
    },
    {
      "cell_type": "markdown",
      "source": [
        "Answer Here"
      ],
      "metadata": {
        "id": "VECbqPI7phqN"
      }
    },
    {
      "cell_type": "markdown",
      "source": [
        "##### 3. Will the gained insights help creating a positive business impact?\n",
        "Are there any insights that lead to negative growth? Justify with specific reason."
      ],
      "metadata": {
        "id": "Seke61FWphqN"
      }
    },
    {
      "cell_type": "markdown",
      "source": [
        "Answer Here"
      ],
      "metadata": {
        "id": "DW4_bGpfphqN"
      }
    },
    {
      "cell_type": "markdown",
      "source": [
        "#### Chart - 7"
      ],
      "metadata": {
        "id": "PIIx-8_IphqN"
      }
    },
    {
      "cell_type": "code",
      "source": [
        "# Chart - 7 visualization code\n",
        "# How does the price of different room types vary across various neighborhood groups?\n",
        "\n",
        "# Create a grouped bar plot to show the average price of each room type in each neighbourhood group\n",
        "plt.figure(figsize=(12, 8))\n",
        "ax = pivot_table.plot(kind='bar', color=['skyblue', 'green', 'orange', 'purple', 'brown'])\n",
        "\n",
        "plt.title('Average Price of Room Types in Each Neighbourhood Group')\n",
        "plt.xlabel('Neighbourhood Group')\n",
        "plt.ylabel('Average Price ($)')\n",
        "plt.xticks(rotation=0, ha='center')\n",
        "\n",
        "# Show legend for room types\n",
        "plt.legend(title='Room Type')\n",
        "\n",
        "# Add value labels to each bar\n",
        "for container in ax.containers:\n",
        "    for bar in container:\n",
        "        yval = bar.get_height()\n",
        "        plt.text(bar.get_x() + bar.get_width()/2, yval + 5, f'${yval:.2f}', ha='center', va='bottom', fontsize=9)\n",
        "\n",
        "plt.tight_layout()\n",
        "plt.show()\n"
      ],
      "metadata": {
        "id": "lqAIGUfyphqO"
      },
      "execution_count": null,
      "outputs": []
    },
    {
      "cell_type": "markdown",
      "source": [
        "##### 1. Why did you pick the specific chart?"
      ],
      "metadata": {
        "id": "t27r6nlMphqO"
      }
    },
    {
      "cell_type": "markdown",
      "source": [
        "Answer Here."
      ],
      "metadata": {
        "id": "iv6ro40sphqO"
      }
    },
    {
      "cell_type": "markdown",
      "source": [
        "##### 2. What is/are the insight(s) found from the chart?"
      ],
      "metadata": {
        "id": "r2jJGEOYphqO"
      }
    },
    {
      "cell_type": "markdown",
      "source": [
        "Answer Here"
      ],
      "metadata": {
        "id": "Po6ZPi4hphqO"
      }
    },
    {
      "cell_type": "markdown",
      "source": [
        "##### 3. Will the gained insights help creating a positive business impact?\n",
        "Are there any insights that lead to negative growth? Justify with specific reason."
      ],
      "metadata": {
        "id": "b0JNsNcRphqO"
      }
    },
    {
      "cell_type": "markdown",
      "source": [
        "Answer Here"
      ],
      "metadata": {
        "id": "xvSq8iUTphqO"
      }
    },
    {
      "cell_type": "markdown",
      "source": [
        "#### Chart - 8"
      ],
      "metadata": {
        "id": "BZR9WyysphqO"
      }
    },
    {
      "cell_type": "code",
      "source": [
        "# Chart - 8 visualization code"
      ],
      "metadata": {
        "id": "TdPTWpAVphqO"
      },
      "execution_count": null,
      "outputs": []
    },
    {
      "cell_type": "markdown",
      "source": [
        "##### 1. Why did you pick the specific chart?"
      ],
      "metadata": {
        "id": "jj7wYXLtphqO"
      }
    },
    {
      "cell_type": "markdown",
      "source": [
        "Answer Here."
      ],
      "metadata": {
        "id": "Ob8u6rCTphqO"
      }
    },
    {
      "cell_type": "markdown",
      "source": [
        "##### 2. What is/are the insight(s) found from the chart?"
      ],
      "metadata": {
        "id": "eZrbJ2SmphqO"
      }
    },
    {
      "cell_type": "markdown",
      "source": [
        "Answer Here"
      ],
      "metadata": {
        "id": "mZtgC_hjphqO"
      }
    },
    {
      "cell_type": "markdown",
      "source": [
        "##### 3. Will the gained insights help creating a positive business impact?\n",
        "Are there any insights that lead to negative growth? Justify with specific reason."
      ],
      "metadata": {
        "id": "rFu4xreNphqO"
      }
    },
    {
      "cell_type": "markdown",
      "source": [
        "Answer Here"
      ],
      "metadata": {
        "id": "ey_0qi68phqO"
      }
    },
    {
      "cell_type": "markdown",
      "source": [
        "#### Chart - 9"
      ],
      "metadata": {
        "id": "YJ55k-q6phqO"
      }
    },
    {
      "cell_type": "code",
      "source": [
        "# Chart - 9 visualization code"
      ],
      "metadata": {
        "id": "B2aS4O1ophqO"
      },
      "execution_count": null,
      "outputs": []
    },
    {
      "cell_type": "markdown",
      "source": [
        "##### 1. Why did you pick the specific chart?"
      ],
      "metadata": {
        "id": "gCFgpxoyphqP"
      }
    },
    {
      "cell_type": "markdown",
      "source": [
        "Answer Here."
      ],
      "metadata": {
        "id": "TVxDimi2phqP"
      }
    },
    {
      "cell_type": "markdown",
      "source": [
        "##### 2. What is/are the insight(s) found from the chart?"
      ],
      "metadata": {
        "id": "OVtJsKN_phqQ"
      }
    },
    {
      "cell_type": "markdown",
      "source": [
        "Answer Here"
      ],
      "metadata": {
        "id": "ngGi97qjphqQ"
      }
    },
    {
      "cell_type": "markdown",
      "source": [
        "##### 3. Will the gained insights help creating a positive business impact?\n",
        "Are there any insights that lead to negative growth? Justify with specific reason."
      ],
      "metadata": {
        "id": "lssrdh5qphqQ"
      }
    },
    {
      "cell_type": "markdown",
      "source": [
        "Answer Here"
      ],
      "metadata": {
        "id": "tBpY5ekJphqQ"
      }
    },
    {
      "cell_type": "markdown",
      "source": [
        "#### Chart - 10"
      ],
      "metadata": {
        "id": "U2RJ9gkRphqQ"
      }
    },
    {
      "cell_type": "code",
      "source": [
        "# Chart - 10 visualization code"
      ],
      "metadata": {
        "id": "GM7a4YP4phqQ"
      },
      "execution_count": null,
      "outputs": []
    },
    {
      "cell_type": "markdown",
      "source": [
        "##### 1. Why did you pick the specific chart?"
      ],
      "metadata": {
        "id": "1M8mcRywphqQ"
      }
    },
    {
      "cell_type": "markdown",
      "source": [
        "Answer Here."
      ],
      "metadata": {
        "id": "8agQvks0phqQ"
      }
    },
    {
      "cell_type": "markdown",
      "source": [
        "##### 2. What is/are the insight(s) found from the chart?"
      ],
      "metadata": {
        "id": "tgIPom80phqQ"
      }
    },
    {
      "cell_type": "markdown",
      "source": [
        "Answer Here"
      ],
      "metadata": {
        "id": "Qp13pnNzphqQ"
      }
    },
    {
      "cell_type": "markdown",
      "source": [
        "##### 3. Will the gained insights help creating a positive business impact?\n",
        "Are there any insights that lead to negative growth? Justify with specific reason."
      ],
      "metadata": {
        "id": "JMzcOPDDphqR"
      }
    },
    {
      "cell_type": "markdown",
      "source": [
        "Answer Here"
      ],
      "metadata": {
        "id": "R4Ka1PC2phqR"
      }
    },
    {
      "cell_type": "markdown",
      "source": [
        "#### Chart - 11"
      ],
      "metadata": {
        "id": "x-EpHcCOp1ci"
      }
    },
    {
      "cell_type": "code",
      "source": [
        "# Chart - 11 visualization code"
      ],
      "metadata": {
        "id": "mAQTIvtqp1cj"
      },
      "execution_count": null,
      "outputs": []
    },
    {
      "cell_type": "markdown",
      "source": [
        "##### 1. Why did you pick the specific chart?"
      ],
      "metadata": {
        "id": "X_VqEhTip1ck"
      }
    },
    {
      "cell_type": "markdown",
      "source": [
        "Answer Here."
      ],
      "metadata": {
        "id": "-vsMzt_np1ck"
      }
    },
    {
      "cell_type": "markdown",
      "source": [
        "##### 2. What is/are the insight(s) found from the chart?"
      ],
      "metadata": {
        "id": "8zGJKyg5p1ck"
      }
    },
    {
      "cell_type": "markdown",
      "source": [
        "Answer Here"
      ],
      "metadata": {
        "id": "ZYdMsrqVp1ck"
      }
    },
    {
      "cell_type": "markdown",
      "source": [
        "##### 3. Will the gained insights help creating a positive business impact?\n",
        "Are there any insights that lead to negative growth? Justify with specific reason."
      ],
      "metadata": {
        "id": "PVzmfK_Ep1ck"
      }
    },
    {
      "cell_type": "markdown",
      "source": [
        "Answer Here"
      ],
      "metadata": {
        "id": "druuKYZpp1ck"
      }
    },
    {
      "cell_type": "markdown",
      "source": [
        "#### Chart - 12"
      ],
      "metadata": {
        "id": "n3dbpmDWp1ck"
      }
    },
    {
      "cell_type": "code",
      "source": [
        "# Chart - 12 visualization code"
      ],
      "metadata": {
        "id": "bwevp1tKp1ck"
      },
      "execution_count": null,
      "outputs": []
    },
    {
      "cell_type": "markdown",
      "source": [
        "##### 1. Why did you pick the specific chart?"
      ],
      "metadata": {
        "id": "ylSl6qgtp1ck"
      }
    },
    {
      "cell_type": "markdown",
      "source": [
        "Answer Here."
      ],
      "metadata": {
        "id": "m2xqNkiQp1ck"
      }
    },
    {
      "cell_type": "markdown",
      "source": [
        "##### 2. What is/are the insight(s) found from the chart?"
      ],
      "metadata": {
        "id": "ZWILFDl5p1ck"
      }
    },
    {
      "cell_type": "markdown",
      "source": [
        "Answer Here"
      ],
      "metadata": {
        "id": "x-lUsV2mp1ck"
      }
    },
    {
      "cell_type": "markdown",
      "source": [
        "##### 3. Will the gained insights help creating a positive business impact?\n",
        "Are there any insights that lead to negative growth? Justify with specific reason."
      ],
      "metadata": {
        "id": "M7G43BXep1ck"
      }
    },
    {
      "cell_type": "markdown",
      "source": [
        "Answer Here"
      ],
      "metadata": {
        "id": "5wwDJXsLp1cl"
      }
    },
    {
      "cell_type": "markdown",
      "source": [
        "#### Chart - 13"
      ],
      "metadata": {
        "id": "Ag9LCva-p1cl"
      }
    },
    {
      "cell_type": "code",
      "source": [
        "# Chart - 13 visualization code"
      ],
      "metadata": {
        "id": "EUfxeq9-p1cl"
      },
      "execution_count": null,
      "outputs": []
    },
    {
      "cell_type": "markdown",
      "source": [
        "##### 1. Why did you pick the specific chart?"
      ],
      "metadata": {
        "id": "E6MkPsBcp1cl"
      }
    },
    {
      "cell_type": "markdown",
      "source": [
        "Answer Here."
      ],
      "metadata": {
        "id": "V22bRsFWp1cl"
      }
    },
    {
      "cell_type": "markdown",
      "source": [
        "##### 2. What is/are the insight(s) found from the chart?"
      ],
      "metadata": {
        "id": "2cELzS2fp1cl"
      }
    },
    {
      "cell_type": "markdown",
      "source": [
        "Answer Here"
      ],
      "metadata": {
        "id": "ozQPc2_Ip1cl"
      }
    },
    {
      "cell_type": "markdown",
      "source": [
        "##### 3. Will the gained insights help creating a positive business impact?\n",
        "Are there any insights that lead to negative growth? Justify with specific reason."
      ],
      "metadata": {
        "id": "3MPXvC8up1cl"
      }
    },
    {
      "cell_type": "markdown",
      "source": [
        "Answer Here"
      ],
      "metadata": {
        "id": "GL8l1tdLp1cl"
      }
    },
    {
      "cell_type": "markdown",
      "source": [
        "#### Chart - 14 - Correlation Heatmap"
      ],
      "metadata": {
        "id": "NC_X3p0fY2L0"
      }
    },
    {
      "cell_type": "code",
      "source": [
        "# Correlation Heatmap visualization code"
      ],
      "metadata": {
        "id": "xyC9zolEZNRQ"
      },
      "execution_count": null,
      "outputs": []
    },
    {
      "cell_type": "markdown",
      "source": [
        "##### 1. Why did you pick the specific chart?"
      ],
      "metadata": {
        "id": "UV0SzAkaZNRQ"
      }
    },
    {
      "cell_type": "markdown",
      "source": [
        "Answer Here."
      ],
      "metadata": {
        "id": "DVPuT8LYZNRQ"
      }
    },
    {
      "cell_type": "markdown",
      "source": [
        "##### 2. What is/are the insight(s) found from the chart?"
      ],
      "metadata": {
        "id": "YPEH6qLeZNRQ"
      }
    },
    {
      "cell_type": "markdown",
      "source": [
        "Answer Here"
      ],
      "metadata": {
        "id": "bfSqtnDqZNRR"
      }
    },
    {
      "cell_type": "markdown",
      "source": [
        "#### Chart - 15 - Pair Plot"
      ],
      "metadata": {
        "id": "q29F0dvdveiT"
      }
    },
    {
      "cell_type": "code",
      "source": [
        "# Pair Plot visualization code"
      ],
      "metadata": {
        "id": "o58-TEIhveiU"
      },
      "execution_count": null,
      "outputs": []
    },
    {
      "cell_type": "markdown",
      "source": [
        "##### 1. Why did you pick the specific chart?"
      ],
      "metadata": {
        "id": "EXh0U9oCveiU"
      }
    },
    {
      "cell_type": "markdown",
      "source": [
        "Answer Here."
      ],
      "metadata": {
        "id": "eMmPjTByveiU"
      }
    },
    {
      "cell_type": "markdown",
      "source": [
        "##### 2. What is/are the insight(s) found from the chart?"
      ],
      "metadata": {
        "id": "22aHeOlLveiV"
      }
    },
    {
      "cell_type": "markdown",
      "source": [
        "Answer Here"
      ],
      "metadata": {
        "id": "uPQ8RGwHveiV"
      }
    },
    {
      "cell_type": "markdown",
      "source": [
        "## **5. Solution to Business Objective**"
      ],
      "metadata": {
        "id": "JcMwzZxoAimU"
      }
    },
    {
      "cell_type": "markdown",
      "source": [
        "#### What do you suggest the client to achieve Business Objective ?\n",
        "Explain Briefly."
      ],
      "metadata": {
        "id": "8G2x9gOozGDZ"
      }
    },
    {
      "cell_type": "markdown",
      "source": [
        "Answer Here."
      ],
      "metadata": {
        "id": "pASKb0qOza21"
      }
    },
    {
      "cell_type": "markdown",
      "source": [
        "# **Conclusion**"
      ],
      "metadata": {
        "id": "gCX9965dhzqZ"
      }
    },
    {
      "cell_type": "markdown",
      "source": [
        "Write the conclusion here."
      ],
      "metadata": {
        "id": "Fjb1IsQkh3yE"
      }
    },
    {
      "cell_type": "markdown",
      "source": [
        "### ***Hurrah! You have successfully completed your EDA Capstone Project !!!***"
      ],
      "metadata": {
        "id": "gIfDvo9L0UH2"
      }
    }
  ]
}